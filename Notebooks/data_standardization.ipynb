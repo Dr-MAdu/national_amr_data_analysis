{
 "cells": [
  {
   "cell_type": "markdown",
   "id": "e847d269",
   "metadata": {},
   "source": [
    "# Comprehensive Data Standardization\n",
    "\n",
    "This notebook consolidates all standardization tasks for the AMR dataset, including:\n",
    "- DEPARTMENT code standardization\n",
    "- SEX code standardization\n",
    "- Organism name mapping\n",
    "- Organism type mapping\n",
    "\n",
    "## Objectives\n",
    "- Ensure consistency and readability across all key columns.\n",
    "- Validate transformations to maintain data integrity.\n",
    "- Export the fully standardized dataset."
   ]
  },
  {
   "cell_type": "code",
   "execution_count": 8,
   "id": "9c838f72",
   "metadata": {},
   "outputs": [
    {
     "name": "stdout",
     "output_type": "stream",
     "text": [
      "📂 Dataset loaded successfully!\n",
      "   📊 Shape: (32688, 47)\n",
      "   📋 Columns: ['PATIENT_ID', 'ORGANISM_CODE', 'ORGANISM_NAME', 'ORGANISM_TYPE', 'ROW_IDX', 'COUNTRY', 'SEX', 'AGE', 'INSTITUTION', 'REGION', 'DEPARTMENT', 'SPEC_DATE', 'ORG_TYPE', 'AMC_ND20', 'AMK_ND30', 'AMP_ND10', 'AMX_ND30', 'AZM_ND15', 'CAZ_ND30', 'CHL_ND30', 'CIP_ND5', 'CLI_ND2', 'CLO_ND5', 'CRO_ND30', 'CTX_ND30', 'CXM_ND30', 'ERY_ND15', 'ETP_ND10', 'FEP_ND30', 'FLC_ND', 'FOX_ND30', 'GEN_ND10', 'LEX_ND30', 'LIN_ND4', 'LNZ_ND30', 'LVX_ND5', 'MEM_ND10', 'MNO_ND30', 'OXA_ND1', 'PEN_ND10', 'PNV_ND10', 'RIF_ND5', 'SXT_ND1_2', 'TCY_ND30', 'TGC_ND15', 'TZP_ND100', 'VAN_ND30']\n"
     ]
    },
    {
     "name": "stderr",
     "output_type": "stream",
     "text": [
      "c:\\Users\\MAdu\\AppData\\Local\\anaconda3\\envs\\venv\\lib\\site-packages\\IPython\\core\\interactiveshell.py:3508: DtypeWarning: Columns (27,29,32,33,34,37,41,44) have mixed types.Specify dtype option on import or set low_memory=False.\n",
      "  exec(code_obj, self.user_global_ns, self.user_ns)\n"
     ]
    }
   ],
   "source": [
    "# Import required libraries\n",
    "import pandas as pd\n",
    "import os\n",
    "\n",
    "# Load the dataset\n",
    "input_file = r'C:\\NATIONAL AMR DATA ANALYSIS FILES\\data\\processed\\mapped\\df_mapped_org_type_2025-06-12.csv'\n",
    "df = pd.read_csv(input_file)\n",
    "\n",
    "print(\"📂 Dataset loaded successfully!\")\n",
    "print(f\"   📊 Shape: {df.shape}\")\n",
    "print(f\"   📋 Columns: {list(df.columns)}\")"
   ]
  },
  {
   "cell_type": "code",
   "execution_count": 9,
   "id": "24902c9f",
   "metadata": {},
   "outputs": [
    {
     "name": "stdout",
     "output_type": "stream",
     "text": [
      "🏥 Standardizing DEPARTMENT codes\n",
      "✅ DEPARTMENT codes standardized successfully!\n"
     ]
    }
   ],
   "source": [
    "# 1. DEPARTMENT Code Standardization\n",
    "print(\"🏥 Standardizing DEPARTMENT codes\")\n",
    "\n",
    "# Define mapping for DEPARTMENT codes\n",
    "department_mapping = {\"Out\": \"Out-patient\", \"Inp\": \"In-patient\"}\n",
    "\n",
    "# Apply mapping to the DEPARTMENT column\n",
    "if \"DEPARTMENT\" in df.columns:\n",
    "    df[\"DEPARTMENT\"] = df[\"DEPARTMENT\"].str.strip().str.title().map(department_mapping)\n",
    "    print(\"✅ DEPARTMENT codes standardized successfully!\")\n",
    "else:\n",
    "    print(\"❌ DEPARTMENT column not found in the dataset!\")"
   ]
  },
  {
   "cell_type": "code",
   "execution_count": 10,
   "id": "89b68612",
   "metadata": {},
   "outputs": [
    {
     "name": "stdout",
     "output_type": "stream",
     "text": [
      "🔄 Standardizing SEX codes\n",
      "✅ SEX codes standardized successfully!\n"
     ]
    }
   ],
   "source": [
    "# 2. SEX Code Standardization\n",
    "print(\"🔄 Standardizing SEX codes\")\n",
    "\n",
    "# Define mapping for SEX codes\n",
    "sex_mapping = {\"f\": \"Female\", \"m\": \"Male\"}\n",
    "\n",
    "# Apply mapping to the SEX column\n",
    "if \"SEX\" in df.columns:\n",
    "    df[\"SEX\"] = df[\"SEX\"].str.strip().str.lower().map(sex_mapping)\n",
    "    print(\"✅ SEX codes standardized successfully!\")\n",
    "else:\n",
    "    print(\"❌ SEX column not found in the dataset!\")"
   ]
  },
  {
   "cell_type": "code",
   "execution_count": 11,
   "id": "b4f63d85",
   "metadata": {},
   "outputs": [
    {
     "name": "stdout",
     "output_type": "stream",
     "text": [
      "🦠 Mapping organism codes to names\n",
      "✅ Organism names mapped successfully!\n"
     ]
    }
   ],
   "source": [
    "# 3. Organism Name Mapping\n",
    "print(\"🦠 Mapping organism codes to names\")\n",
    "\n",
    "# Load organism reference table\n",
    "organism_ref_file = r'c:\\NATIONAL AMR DATA ANALYSIS FILES\\data\\Database Resources\\Organisms_Data_Final.csv'\n",
    "df_organism_ref = pd.read_csv(organism_ref_file)\n",
    "\n",
    "# Create mapping dictionary\n",
    "organism_mapping = df_organism_ref.set_index(\"ORGANISM_CODE\")[\"ORGANISM_NAME\"].to_dict()\n",
    "\n",
    "# Apply mapping to the ORGANISM_CODE column\n",
    "if \"ORGANISM_CODE\" in df.columns:\n",
    "    df[\"ORGANISM_NAME\"] = df[\"ORGANISM_CODE\"].map(organism_mapping)\n",
    "    print(\"✅ Organism names mapped successfully!\")\n",
    "else:\n",
    "    print(\"❌ ORGANISM_CODE column not found in the dataset!\")"
   ]
  },
  {
   "cell_type": "code",
   "execution_count": 12,
   "id": "b466b7de",
   "metadata": {},
   "outputs": [
    {
     "name": "stdout",
     "output_type": "stream",
     "text": [
      "🔬 Mapping organism codes to types\n",
      "✅ Organism types mapped successfully!\n"
     ]
    }
   ],
   "source": [
    "# 4. Organism Type Mapping\n",
    "print(\"🔬 Mapping organism codes to types\")\n",
    "\n",
    "# Create mapping dictionary for organism types\n",
    "organism_type_mapping = df_organism_ref.set_index(\"ORGANISM_CODE\")[\"ORGANISM_TYPE_DESCRIPTION\"].to_dict()\n",
    "\n",
    "# Apply mapping to the ORGANISM_CODE column\n",
    "if \"ORGANISM_CODE\" in df.columns:\n",
    "    df[\"ORGANISM_TYPE\"] = df[\"ORGANISM_CODE\"].map(organism_type_mapping)\n",
    "    print(\"✅ Organism types mapped successfully!\")\n",
    "else:\n",
    "    print(\"❌ ORGANISM_CODE column not found in the dataset!\")"
   ]
  },
  {
   "cell_type": "code",
   "execution_count": 13,
   "id": "a87fd7ec",
   "metadata": {},
   "outputs": [
    {
     "name": "stdout",
     "output_type": "stream",
     "text": [
      "💾 Dataset exported successfully!\n",
      "   📁 Location: c:\\NATIONAL AMR DATA ANALYSIS FILES\\data\\processed\\mapped\\df_fully_standardized_2025-06-13.csv\n"
     ]
    }
   ],
   "source": [
    "# Export the fully standardized dataset\n",
    "output_file = r'c:\\NATIONAL AMR DATA ANALYSIS FILES\\data\\processed\\mapped\\df_fully_standardized_2025-06-13.csv'\n",
    "df.to_csv(output_file, index=False)\n",
    "\n",
    "print(\"💾 Dataset exported successfully!\")\n",
    "print(f\"   📁 Location: {output_file}\")"
   ]
  }
 ],
 "metadata": {
  "kernelspec": {
   "display_name": "venv",
   "language": "python",
   "name": "python3"
  },
  "language_info": {
   "codemirror_mode": {
    "name": "ipython",
    "version": 3
   },
   "file_extension": ".py",
   "mimetype": "text/x-python",
   "name": "python",
   "nbconvert_exporter": "python",
   "pygments_lexer": "ipython3",
   "version": "3.8.20"
  }
 },
 "nbformat": 4,
 "nbformat_minor": 5
}

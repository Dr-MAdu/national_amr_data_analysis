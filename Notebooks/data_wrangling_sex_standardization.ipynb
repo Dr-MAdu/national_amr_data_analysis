{
 "cells": [
  {
   "cell_type": "markdown",
   "id": "b2ffff18",
   "metadata": {},
   "source": [
    "# SEX Code Standardization\n",
    "\n",
    "This notebook focuses on standardizing the SEX codes in the AMR dataset. The transformation involves mapping 'f'/'m' to 'Female'/'Male' for consistency and readability.\n",
    "\n",
    "## Objectives\n",
    "- Map 'f' → 'Female'\n",
    "- Map 'm' → 'Male'\n",
    "- Validate the transformation"
   ]
  },
  {
   "cell_type": "code",
   "execution_count": null,
   "id": "fa335bcd",
   "metadata": {},
   "outputs": [],
   "source": [
    "# Import required libraries\n",
    "import pandas as pd\n",
    "\n",
    "# Load the dataset\n",
    "input_file = r'c:\\NATIONAL AMR DATA ANALYSIS FILES\\data\\processed\\mapped\\df_final_with_standardized_sex_2025-06-12_15-32-27.csv'\n",
    "df = pd.read_csv(input_file)\n",
    "\n",
    "print(\"📂 Dataset loaded successfully!\")\n",
    "print(f\"   📊 Shape: {df.shape}\")\n",
    "print(f\"   📋 Columns: {list(df.columns)}\")"
   ]
  },
  {
   "cell_type": "code",
   "execution_count": null,
   "id": "3d825017",
   "metadata": {},
   "outputs": [],
   "source": [
    "# Define mapping for SEX codes\n",
    "sex_mapping = {\"f\": \"Female\", \"m\": \"Male\"}\n",
    "\n",
    "# Apply mapping to the SEX column\n",
    "if \"SEX\" in df.columns:\n",
    "    df[\"SEX\"] = df[\"SEX\"].str.strip().str.lower().map(sex_mapping)\n",
    "    \n",
    "    # Validate transformation\n",
    "    total_records = len(df)\n",
    "    mapped_records = df[\"SEX\"].notna().sum()\n",
    "    unmapped_records = df[\"SEX\"].isna().sum()\n",
    "    \n",
    "    print(f\"📊 Total records: {total_records:,}\")\n",
    "    print(f\"✅ Successfully mapped: {mapped_records:,}\")\n",
    "    print(f\"❌ Unmapped records: {unmapped_records:,}\")\n",
    "    print(f\"📈 Success rate: {(mapped_records / total_records) * 100:.2f}%\")\n",
    "else:\n",
    "    print(\"❌ SEX column not found in the dataset!\")"
   ]
  },
  {
   "cell_type": "code",
   "execution_count": null,
   "id": "e09a5d2d",
   "metadata": {},
   "outputs": [],
   "source": [
    "# Export the updated dataset\n",
    "output_file = r'c:\\NATIONAL AMR DATA ANALYSIS FILES\\data\\processed\\mapped\\df_final_with_standardized_sex_updated.csv'\n",
    "df.to_csv(output_file, index=False)\n",
    "\n",
    "print(\"💾 Dataset exported successfully!\")\n",
    "print(f\"   📁 Location: {output_file}\")"
   ]
  }
 ],
 "metadata": {
  "language_info": {
   "name": "python"
  }
 },
 "nbformat": 4,
 "nbformat_minor": 5
}
